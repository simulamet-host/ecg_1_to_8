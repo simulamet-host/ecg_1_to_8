{
  "nbformat": 4,
  "nbformat_minor": 0,
  "metadata": {
    "colab": {
      "provenance": []
    },
    "kernelspec": {
      "name": "python3",
      "display_name": "Python 3"
    },
    "language_info": {
      "name": "python"
    },
    "widgets": {
      "application/vnd.jupyter.widget-state+json": {
        "2b3ee397760d4dcca34661ae6fdfa5f6": {
          "model_module": "@jupyter-widgets/controls",
          "model_name": "HBoxModel",
          "model_module_version": "1.5.0",
          "state": {
            "_dom_classes": [],
            "_model_module": "@jupyter-widgets/controls",
            "_model_module_version": "1.5.0",
            "_model_name": "HBoxModel",
            "_view_count": null,
            "_view_module": "@jupyter-widgets/controls",
            "_view_module_version": "1.5.0",
            "_view_name": "HBoxView",
            "box_style": "",
            "children": [
              "IPY_MODEL_0e59695c930a4bdd988b026c71846437",
              "IPY_MODEL_af4e38afedc8455b9c3099d16ea3da5f",
              "IPY_MODEL_bf552fbad20543029411e2accce47bb3"
            ],
            "layout": "IPY_MODEL_d8d2f64128d1453b8f88d9587322e87e"
          }
        },
        "0e59695c930a4bdd988b026c71846437": {
          "model_module": "@jupyter-widgets/controls",
          "model_name": "HTMLModel",
          "model_module_version": "1.5.0",
          "state": {
            "_dom_classes": [],
            "_model_module": "@jupyter-widgets/controls",
            "_model_module_version": "1.5.0",
            "_model_name": "HTMLModel",
            "_view_count": null,
            "_view_module": "@jupyter-widgets/controls",
            "_view_module_version": "1.5.0",
            "_view_name": "HTMLView",
            "description": "",
            "description_tooltip": null,
            "layout": "IPY_MODEL_499e91f17c1e4a839a52eced6335a8d8",
            "placeholder": "​",
            "style": "IPY_MODEL_f16e1be05c9d4a309bb90810c8a7f4ea",
            "value": "100%"
          }
        },
        "af4e38afedc8455b9c3099d16ea3da5f": {
          "model_module": "@jupyter-widgets/controls",
          "model_name": "FloatProgressModel",
          "model_module_version": "1.5.0",
          "state": {
            "_dom_classes": [],
            "_model_module": "@jupyter-widgets/controls",
            "_model_module_version": "1.5.0",
            "_model_name": "FloatProgressModel",
            "_view_count": null,
            "_view_module": "@jupyter-widgets/controls",
            "_view_module_version": "1.5.0",
            "_view_name": "ProgressView",
            "bar_style": "success",
            "description": "",
            "description_tooltip": null,
            "layout": "IPY_MODEL_e50785345a7847eb9ab4d1360752490b",
            "max": 2,
            "min": 0,
            "orientation": "horizontal",
            "style": "IPY_MODEL_c0bc4d8c265742cfa4cb289502cd9c76",
            "value": 2
          }
        },
        "bf552fbad20543029411e2accce47bb3": {
          "model_module": "@jupyter-widgets/controls",
          "model_name": "HTMLModel",
          "model_module_version": "1.5.0",
          "state": {
            "_dom_classes": [],
            "_model_module": "@jupyter-widgets/controls",
            "_model_module_version": "1.5.0",
            "_model_name": "HTMLModel",
            "_view_count": null,
            "_view_module": "@jupyter-widgets/controls",
            "_view_module_version": "1.5.0",
            "_view_name": "HTMLView",
            "description": "",
            "description_tooltip": null,
            "layout": "IPY_MODEL_acf53201a18840f0aa58a4e2769d463f",
            "placeholder": "​",
            "style": "IPY_MODEL_225dee4f34ad41b1929e2cd39c7a032d",
            "value": " 2/2 [00:00&lt;00:00, 26.01it/s]"
          }
        },
        "d8d2f64128d1453b8f88d9587322e87e": {
          "model_module": "@jupyter-widgets/base",
          "model_name": "LayoutModel",
          "model_module_version": "1.2.0",
          "state": {
            "_model_module": "@jupyter-widgets/base",
            "_model_module_version": "1.2.0",
            "_model_name": "LayoutModel",
            "_view_count": null,
            "_view_module": "@jupyter-widgets/base",
            "_view_module_version": "1.2.0",
            "_view_name": "LayoutView",
            "align_content": null,
            "align_items": null,
            "align_self": null,
            "border": null,
            "bottom": null,
            "display": null,
            "flex": null,
            "flex_flow": null,
            "grid_area": null,
            "grid_auto_columns": null,
            "grid_auto_flow": null,
            "grid_auto_rows": null,
            "grid_column": null,
            "grid_gap": null,
            "grid_row": null,
            "grid_template_areas": null,
            "grid_template_columns": null,
            "grid_template_rows": null,
            "height": null,
            "justify_content": null,
            "justify_items": null,
            "left": null,
            "margin": null,
            "max_height": null,
            "max_width": null,
            "min_height": null,
            "min_width": null,
            "object_fit": null,
            "object_position": null,
            "order": null,
            "overflow": null,
            "overflow_x": null,
            "overflow_y": null,
            "padding": null,
            "right": null,
            "top": null,
            "visibility": null,
            "width": null
          }
        },
        "499e91f17c1e4a839a52eced6335a8d8": {
          "model_module": "@jupyter-widgets/base",
          "model_name": "LayoutModel",
          "model_module_version": "1.2.0",
          "state": {
            "_model_module": "@jupyter-widgets/base",
            "_model_module_version": "1.2.0",
            "_model_name": "LayoutModel",
            "_view_count": null,
            "_view_module": "@jupyter-widgets/base",
            "_view_module_version": "1.2.0",
            "_view_name": "LayoutView",
            "align_content": null,
            "align_items": null,
            "align_self": null,
            "border": null,
            "bottom": null,
            "display": null,
            "flex": null,
            "flex_flow": null,
            "grid_area": null,
            "grid_auto_columns": null,
            "grid_auto_flow": null,
            "grid_auto_rows": null,
            "grid_column": null,
            "grid_gap": null,
            "grid_row": null,
            "grid_template_areas": null,
            "grid_template_columns": null,
            "grid_template_rows": null,
            "height": null,
            "justify_content": null,
            "justify_items": null,
            "left": null,
            "margin": null,
            "max_height": null,
            "max_width": null,
            "min_height": null,
            "min_width": null,
            "object_fit": null,
            "object_position": null,
            "order": null,
            "overflow": null,
            "overflow_x": null,
            "overflow_y": null,
            "padding": null,
            "right": null,
            "top": null,
            "visibility": null,
            "width": null
          }
        },
        "f16e1be05c9d4a309bb90810c8a7f4ea": {
          "model_module": "@jupyter-widgets/controls",
          "model_name": "DescriptionStyleModel",
          "model_module_version": "1.5.0",
          "state": {
            "_model_module": "@jupyter-widgets/controls",
            "_model_module_version": "1.5.0",
            "_model_name": "DescriptionStyleModel",
            "_view_count": null,
            "_view_module": "@jupyter-widgets/base",
            "_view_module_version": "1.2.0",
            "_view_name": "StyleView",
            "description_width": ""
          }
        },
        "e50785345a7847eb9ab4d1360752490b": {
          "model_module": "@jupyter-widgets/base",
          "model_name": "LayoutModel",
          "model_module_version": "1.2.0",
          "state": {
            "_model_module": "@jupyter-widgets/base",
            "_model_module_version": "1.2.0",
            "_model_name": "LayoutModel",
            "_view_count": null,
            "_view_module": "@jupyter-widgets/base",
            "_view_module_version": "1.2.0",
            "_view_name": "LayoutView",
            "align_content": null,
            "align_items": null,
            "align_self": null,
            "border": null,
            "bottom": null,
            "display": null,
            "flex": null,
            "flex_flow": null,
            "grid_area": null,
            "grid_auto_columns": null,
            "grid_auto_flow": null,
            "grid_auto_rows": null,
            "grid_column": null,
            "grid_gap": null,
            "grid_row": null,
            "grid_template_areas": null,
            "grid_template_columns": null,
            "grid_template_rows": null,
            "height": null,
            "justify_content": null,
            "justify_items": null,
            "left": null,
            "margin": null,
            "max_height": null,
            "max_width": null,
            "min_height": null,
            "min_width": null,
            "object_fit": null,
            "object_position": null,
            "order": null,
            "overflow": null,
            "overflow_x": null,
            "overflow_y": null,
            "padding": null,
            "right": null,
            "top": null,
            "visibility": null,
            "width": null
          }
        },
        "c0bc4d8c265742cfa4cb289502cd9c76": {
          "model_module": "@jupyter-widgets/controls",
          "model_name": "ProgressStyleModel",
          "model_module_version": "1.5.0",
          "state": {
            "_model_module": "@jupyter-widgets/controls",
            "_model_module_version": "1.5.0",
            "_model_name": "ProgressStyleModel",
            "_view_count": null,
            "_view_module": "@jupyter-widgets/base",
            "_view_module_version": "1.2.0",
            "_view_name": "StyleView",
            "bar_color": null,
            "description_width": ""
          }
        },
        "acf53201a18840f0aa58a4e2769d463f": {
          "model_module": "@jupyter-widgets/base",
          "model_name": "LayoutModel",
          "model_module_version": "1.2.0",
          "state": {
            "_model_module": "@jupyter-widgets/base",
            "_model_module_version": "1.2.0",
            "_model_name": "LayoutModel",
            "_view_count": null,
            "_view_module": "@jupyter-widgets/base",
            "_view_module_version": "1.2.0",
            "_view_name": "LayoutView",
            "align_content": null,
            "align_items": null,
            "align_self": null,
            "border": null,
            "bottom": null,
            "display": null,
            "flex": null,
            "flex_flow": null,
            "grid_area": null,
            "grid_auto_columns": null,
            "grid_auto_flow": null,
            "grid_auto_rows": null,
            "grid_column": null,
            "grid_gap": null,
            "grid_row": null,
            "grid_template_areas": null,
            "grid_template_columns": null,
            "grid_template_rows": null,
            "height": null,
            "justify_content": null,
            "justify_items": null,
            "left": null,
            "margin": null,
            "max_height": null,
            "max_width": null,
            "min_height": null,
            "min_width": null,
            "object_fit": null,
            "object_position": null,
            "order": null,
            "overflow": null,
            "overflow_x": null,
            "overflow_y": null,
            "padding": null,
            "right": null,
            "top": null,
            "visibility": null,
            "width": null
          }
        },
        "225dee4f34ad41b1929e2cd39c7a032d": {
          "model_module": "@jupyter-widgets/controls",
          "model_name": "DescriptionStyleModel",
          "model_module_version": "1.5.0",
          "state": {
            "_model_module": "@jupyter-widgets/controls",
            "_model_module_version": "1.5.0",
            "_model_name": "DescriptionStyleModel",
            "_view_count": null,
            "_view_module": "@jupyter-widgets/base",
            "_view_module_version": "1.2.0",
            "_view_name": "StyleView",
            "description_width": ""
          }
        }
      }
    }
  },
  "cells": [
    {
      "cell_type": "code",
      "execution_count": 2,
      "metadata": {
        "colab": {
          "base_uri": "https://localhost:8080/"
        },
        "id": "_BLqezzYWtas",
        "outputId": "96a6761c-f389-4da7-ddc8-ff175ef7277b"
      },
      "outputs": [
        {
          "output_type": "stream",
          "name": "stdout",
          "text": [
            "Looking in indexes: https://test.pypi.org/simple/, https://us-python.pkg.dev/colab-wheels/public/simple/\n",
            "Collecting ecg1to8-Twilli==0.0.7.3.4\n",
            "  Downloading https://test-files.pythonhosted.org/packages/e6/35/0ddcaf16805ee5c13245fe1d00194c7aa46a0a265b5c43987afac052197e/ecg1to8_Twilli-0.0.7.3.4-py3-none-any.whl (14 kB)\n",
            "Requirement already satisfied: tqdm in /usr/local/lib/python3.7/dist-packages (from ecg1to8-Twilli==0.0.7.3.4) (4.64.1)\n",
            "Requirement already satisfied: numpy in /usr/local/lib/python3.7/dist-packages (from ecg1to8-Twilli==0.0.7.3.4) (1.21.6)\n",
            "Requirement already satisfied: pandas in /usr/local/lib/python3.7/dist-packages (from ecg1to8-Twilli==0.0.7.3.4) (1.3.5)\n",
            "Requirement already satisfied: torch in /usr/local/lib/python3.7/dist-packages (from ecg1to8-Twilli==0.0.7.3.4) (1.12.1+cu113)\n",
            "Requirement already satisfied: pytz>=2017.3 in /usr/local/lib/python3.7/dist-packages (from pandas->ecg1to8-Twilli==0.0.7.3.4) (2022.6)\n",
            "Requirement already satisfied: python-dateutil>=2.7.3 in /usr/local/lib/python3.7/dist-packages (from pandas->ecg1to8-Twilli==0.0.7.3.4) (2.8.2)\n",
            "Requirement already satisfied: six>=1.5 in /usr/local/lib/python3.7/dist-packages (from python-dateutil>=2.7.3->pandas->ecg1to8-Twilli==0.0.7.3.4) (1.15.0)\n",
            "Requirement already satisfied: typing-extensions in /usr/local/lib/python3.7/dist-packages (from torch->ecg1to8-Twilli==0.0.7.3.4) (4.1.1)\n",
            "Installing collected packages: ecg1to8-Twilli\n",
            "Successfully installed ecg1to8-Twilli-0.0.7.3.4\n"
          ]
        }
      ],
      "source": [
        "!pip install -i https://test.pypi.org/simple/ ecg1to8-Twilli==0.0.7.3.4\n",
        "!pip install ecg_plot\n",
        "from Autoencoder import ecg_gen"
      ]
    },
    {
      "cell_type": "code",
      "source": [
        "help(ecg_gen)"
      ],
      "metadata": {
        "id": "oLEeCzWSF_UA",
        "outputId": "ca9863d1-dbb8-444b-abbc-17fbcd62dcce",
        "colab": {
          "base_uri": "https://localhost:8080/"
        }
      },
      "execution_count": 9,
      "outputs": [
        {
          "output_type": "stream",
          "name": "stdout",
          "text": [
            "Help on module Autoencoder.ecg_gen in Autoencoder:\n",
            "\n",
            "NAME\n",
            "    Autoencoder.ecg_gen\n",
            "\n",
            "FUNCTIONS\n",
            "    Syn_trans(type='syn', input_path=None, output_path=None, normalize=None)\n",
            "        function takes in input_path leading to folder with ecg.csv files. Files should contain 8 columns and 5000 rows of data plus an index.\n",
            "        The first columns will be used to generate 12 leads, the output will be 24 signals, left the input data and right the generated data.\n",
            "        If no output folder is specified output folder will be created in same dir as input folder\n",
            "        If there is a need to normalize the data to [1,-1] set normalize to True.\n",
            "        For now user is required to run !pip install ecg_plot to install plotting package.\n",
            "    \n",
            "    get_model_state(type, version, input_folder)\n",
            "        #==============================\n",
            "        # Get model state\n",
            "        #==============================\n",
            "    \n",
            "    init_model(type=None, version=None, input_dir=None)\n",
            "        Choose from type:Syn,Patho,Normal and version:best,last.\n",
            "    \n",
            "    run_inference(type, version, input_path, output_path=None, normalize=None)\n",
            "\n",
            "DATA\n",
            "    seed = 42\n",
            "\n",
            "FILE\n",
            "    /usr/local/lib/python3.7/dist-packages/Autoencoder/ecg_gen.py\n",
            "\n",
            "\n"
          ]
        }
      ]
    },
    {
      "cell_type": "code",
      "source": [
        "ecg_gen.Syn_trans(input_path=\"/content/Data/input\",normalize=True)"
      ],
      "metadata": {
        "colab": {
          "base_uri": "https://localhost:8080/",
          "height": 212,
          "referenced_widgets": [
            "2b3ee397760d4dcca34661ae6fdfa5f6",
            "0e59695c930a4bdd988b026c71846437",
            "af4e38afedc8455b9c3099d16ea3da5f",
            "bf552fbad20543029411e2accce47bb3",
            "d8d2f64128d1453b8f88d9587322e87e",
            "499e91f17c1e4a839a52eced6335a8d8",
            "f16e1be05c9d4a309bb90810c8a7f4ea",
            "e50785345a7847eb9ab4d1360752490b",
            "c0bc4d8c265742cfa4cb289502cd9c76",
            "acf53201a18840f0aa58a4e2769d463f",
            "225dee4f34ad41b1929e2cd39c7a032d"
          ]
        },
        "id": "l0VMirDoQFTA",
        "outputId": "22781637-5a97-45df-c0bd-1fe3af1ad2e5"
      },
      "execution_count": 6,
      "outputs": [
        {
          "output_type": "stream",
          "name": "stdout",
          "text": [
            "downloading model state dict\n",
            "requesting\n",
            "looking for max value\n"
          ]
        },
        {
          "output_type": "display_data",
          "data": {
            "text/plain": [
              "  0%|          | 0/2 [00:00<?, ?it/s]"
            ],
            "application/vnd.jupyter.widget-view+json": {
              "version_major": 2,
              "version_minor": 0,
              "model_id": "2b3ee397760d4dcca34661ae6fdfa5f6"
            }
          },
          "metadata": {}
        },
        {
          "output_type": "stream",
          "name": "stdout",
          "text": [
            "All data will be normalized by4999\n",
            "data was generated\n",
            "doing inference job\n",
            "predictions were made\n",
            "doing inference job\n",
            "predictions were made\n"
          ]
        }
      ]
    }
  ]
}